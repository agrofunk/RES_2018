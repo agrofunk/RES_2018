{
 "cells": [
  {
   "cell_type": "markdown",
   "metadata": {},
   "source": [
    "### TODO\n",
    "- passar para o HCC\n",
    "- fazer bonitinho"
   ]
  },
  {
   "cell_type": "code",
   "execution_count": 3,
   "metadata": {},
   "outputs": [
    {
     "name": "stdout",
     "output_type": "stream",
     "text": [
      "['/home/funceme/Downloads/Y_MODIS/h13v09/', '/home/funceme/Downloads/Y_MODIS/h14v09/']\n",
      "['A2003001.tif', 'A2003009.tif', 'A2003017.tif']\n"
     ]
    }
   ],
   "source": [
    "import os\n",
    "from glob import glob\n",
    "import xuleta as xu\n",
    "\n",
    "tiles = ['h13v09/','h14v09/']#,'h13v10','h14v10'\n",
    "product = 'ET/'\n",
    "\n",
    "#folders = ['/home/wardlow/denis/work/MODIS_NEB/'+x+'/MXD16A2/'+product for x in tiles]\n",
    "folders = ['/home/funceme/Downloads/Y_MODIS/'+x for x in tiles]\n",
    "print(folders)\n",
    "\n",
    "lnames = xu.listfiles(folders[0], extension='*.tif',full=False)\n",
    "print(lnames)"
   ]
  },
  {
   "cell_type": "code",
   "execution_count": 4,
   "metadata": {},
   "outputs": [],
   "source": [
    "base = '/home/funceme/Downloads/Y_MODIS/'"
   ]
  },
  {
   "cell_type": "code",
   "execution_count": 13,
   "metadata": {},
   "outputs": [
    {
     "data": {
      "text/plain": [
       "['A2003001.tif', 'A2003009.tif', 'A2003017.tif']"
      ]
     },
     "execution_count": 13,
     "metadata": {},
     "output_type": "execute_result"
    }
   ],
   "source": [
    "lnames"
   ]
  },
  {
   "cell_type": "code",
   "execution_count": 19,
   "metadata": {},
   "outputs": [],
   "source": [
    "for name in lnames:\n",
    "    images = []\n",
    "    for tile in tiles:\n",
    "        images.append(base+tile+name)\n",
    "    images = ' '.join(images)\n",
    "    #print(' '.join(images))\n",
    "    #os.system('gdal_merge.py -n nan -ot Float32 -of GTiff -o %s %s' %(name,images))\n",
    "    os.system('gdal_merge.py -n nan -ot Float32 -of GTiff -o %s %s' %(base+name,images))"
   ]
  }
 ],
 "metadata": {
  "kernelspec": {
   "display_name": "Python 3",
   "language": "python",
   "name": "python3"
  },
  "language_info": {
   "codemirror_mode": {
    "name": "ipython",
    "version": 3
   },
   "file_extension": ".py",
   "mimetype": "text/x-python",
   "name": "python",
   "nbconvert_exporter": "python",
   "pygments_lexer": "ipython3",
   "version": "3.7.3"
  }
 },
 "nbformat": 4,
 "nbformat_minor": 2
}
